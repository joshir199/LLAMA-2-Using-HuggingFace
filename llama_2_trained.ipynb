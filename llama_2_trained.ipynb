{
  "nbformat": 4,
  "nbformat_minor": 0,
  "metadata": {
    "colab": {
      "private_outputs": true,
      "provenance": [],
      "gpuType": "T4"
    },
    "kernelspec": {
      "name": "python3",
      "display_name": "Python 3"
    },
    "language_info": {
      "name": "python"
    },
    "accelerator": "GPU"
  },
  "cells": [
    {
      "cell_type": "code",
      "source": [
        "!pip install huggingface_hub\n",
        "\n",
        "import huggingface_hub\n",
        "import google"
      ],
      "metadata": {
        "id": "PbIcasntJkHI"
      },
      "execution_count": null,
      "outputs": []
    },
    {
      "cell_type": "code",
      "source": [
        "google.colab.output.enable_custom_widget_manager()\n",
        "huggingface_hub.notebook_login()"
      ],
      "metadata": {
        "id": "wnHQX1jJg2wh"
      },
      "execution_count": null,
      "outputs": []
    },
    {
      "cell_type": "markdown",
      "source": [
        "🚨 Both of these models load, but there's a `RuntimeError` when using the 13b model:\n",
        "\n",
        "```\n",
        "RuntimeError: mat1 and mat2 shapes cannot be multiplied (18x5120 and 1x2560)\n",
        "```\n",
        "\n",
        "Memory usage:\n",
        "\n",
        "```\n",
        "meta-llama/Llama-2-7b-chat-hf: 3.535655975341797 GiB\n",
        "```\n",
        "\n",
        "```\n",
        "meta-llama/Llama-2-13b-chat-hf: 6.558394432067871 GiB\n",
        "```"
      ],
      "metadata": {
        "id": "YtqR4tKALmrQ"
      }
    },
    {
      "cell_type": "code",
      "source": [
        "!pip install bitsandbytes sentencepiece xformers accelerate\n",
        "!pip install git+https://github.com/huggingface/transformers\n",
        "\n"
      ],
      "metadata": {
        "id": "RrZNiRlZJqcX"
      },
      "execution_count": null,
      "outputs": []
    },
    {
      "cell_type": "code",
      "source": [
        "# model_id = \"meta-llama/Llama-2-7b-chat-hf\"\n",
        "model_id = \"meta-llama/Llama-2-13b-hf\"\n",
        "\n",
        "import transformers\n",
        "\n",
        "tokenizer = transformers.AutoTokenizer.from_pretrained(model_id)\n",
        "model = transformers.AutoModelForCausalLM.from_pretrained(\n",
        "  model_id,\n",
        "  device_map=\"auto\",\n",
        "  load_in_4bit=True,\n",
        ")\n",
        "\n",
        "print(f'''\n",
        "{model_id}: {model.get_memory_footprint()/1024/1024/1024} GiB\n",
        "'''.strip())"
      ],
      "metadata": {
        "id": "ATFEzBrYhx2L"
      },
      "execution_count": null,
      "outputs": []
    },
    {
      "cell_type": "code",
      "source": [
        "text = f'''\n",
        "[INST]where in the world is Seville?[/INST]\n",
        "'''.strip()\n",
        "device = \"cuda:0\"\n",
        "\n",
        "inputs = tokenizer(text, return_tensors=\"pt\").to(device)\n",
        "outputs = model.generate(**inputs, max_new_tokens=1024)\n",
        "print(tokenizer.decode(outputs[0], skip_special_tokens=True))"
      ],
      "metadata": {
        "id": "jhqC-sZxJn6T"
      },
      "execution_count": null,
      "outputs": []
    }
  ]
}
